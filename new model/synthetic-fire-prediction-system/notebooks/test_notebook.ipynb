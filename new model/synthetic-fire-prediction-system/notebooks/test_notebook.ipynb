{
 "cells": [
  {
   "cell_type": "markdown",
   "id": "370c9e46",
   "metadata": {},
   "source": [
    "# Test Notebook"
   ]
  },
  {
   "cell_type": "code",
   "execution_count": null,
   "id": "aa15ba87",
   "metadata": {},
   "outputs": [],
   "source": [
    "print(\"Hello World\")"
   ]
  }
 ],
 "metadata": {
  "language_info": {
   "name": "python"
  }
 },
 "nbformat": 4,
 "nbformat_minor": 5
}
